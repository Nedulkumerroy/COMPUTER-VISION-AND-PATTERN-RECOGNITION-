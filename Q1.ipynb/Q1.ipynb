{
 "cells": [
  {
   "cell_type": "markdown",
   "id": "928d96da",
   "metadata": {},
   "source": [
    "# 1.Generating dataset and plotting using matplotlib"
   ]
  },
  {
   "cell_type": "code",
   "execution_count": 33,
   "id": "bafaeb5b",
   "metadata": {},
   "outputs": [],
   "source": [
    "import matplotlib.pyplot as plt\n",
    "import random\n",
    "from random import randint\n",
    "import math"
   ]
  },
  {
   "cell_type": "code",
   "execution_count": 34,
   "id": "77e80f58",
   "metadata": {},
   "outputs": [
    {
     "name": "stdout",
     "output_type": "stream",
     "text": [
      "[9, 52, 64, 60, 67, 14, 38, 55, 86, 24, 36, 100, 74, 31, 87, 42, 60, 6, 38, 5, 51, 28, 93, 79, 100, 20, 16, 11, 5, 43, 15, 41, 3, 26, 45, 95, 53, 50, 46, 99, 20, 37, 0, 19, 12, 70, 40, 3, 0, 68, 70, 21, 95, 94, 18, 83, 87, 25, 57, 21, 64, 87, 37, 68, 80, 47, 1, 66, 98, 88, 85, 85, 11, 44, 75, 82, 25, 29, 93, 61, 63, 66, 48, 2, 18, 5, 86, 52, 100, 71, 1, 32, 72, 16, 8, 100, 6, 58, 3, 59]\n",
      "[29, 84, 92, 14, 58, 34, 95, 72, 45, 34, 1, 79, 36, 48, 21, 39, 23, 7, 96, 35, 11, 24, 9, 85, 27, 48, 74, 29, 83, 14, 15, 77, 97, 66, 12, 51, 76, 31, 49, 48, 29, 92, 63, 69, 5, 28, 59, 26, 43, 89, 2, 39, 67, 21, 43, 82, 35, 47, 45, 40, 49, 76, 37, 76, 68, 60, 29, 84, 59, 10, 10, 91, 25, 9, 28, 48, 65, 100, 41, 30, 40, 86, 0, 6, 26, 57, 16, 86, 43, 20, 6, 54, 39, 9, 22, 95, 69, 2, 52, 87]\n"
     ]
    }
   ],
   "source": [
    "x1=[]\n",
    "y1=[]\n",
    "for i in range(100):\n",
    "    x1.append(randint(0,100))\n",
    "print(x1) \n",
    "for i in range(100):\n",
    "    y1.append(randint(0,100))\n",
    "print(y1) \n",
    "\n"
   ]
  },
  {
   "cell_type": "code",
   "execution_count": 37,
   "id": "cd543549",
   "metadata": {},
   "outputs": [
    {
     "name": "stdout",
     "output_type": "stream",
     "text": [
      "[0, 0, 0, 0, 1, 0, 0, 1, 0, 0, 0, 0, 1, 1, 0, 1, 0, 0, 0, 0, 0, 0, 0, 0, 0, 0, 0, 0, 0, 0, 0, 0, 0, 1, 0, 0, 0, 1, 1, 0, 0, 0, 0, 0, 0, 1, 1, 0, 0, 0, 0, 0, 0, 0, 0, 0, 0, 0, 1, 0, 1, 0, 1, 0, 0, 1, 0, 0, 0, 0, 0, 0, 0, 0, 0, 0, 0, 0, 0, 1, 1, 0, 0, 0, 0, 0, 0, 0, 0, 0, 0, 1, 1, 0, 0, 0, 0, 0, 0, 0]\n"
     ]
    }
   ],
   "source": [
    "val=[25]\n",
    "val2=[75]\n",
    "Y=[]\n",
    "for i in range(100):\n",
    "    if x1[i] > val[0] and x1[i] < val2[0] and y1[i] > val[0] and y1[i] < val2[0]:\n",
    "         Y.append(1)\n",
    "    else:\n",
    "        Y.append(0)\n",
    "        \n",
    "print(Y)"
   ]
  },
  {
   "cell_type": "code",
   "execution_count": 38,
   "id": "ad34b6aa",
   "metadata": {},
   "outputs": [
    {
     "data": {
      "image/png": "[encoded data removed]",
      "text/plain": [
       "<Figure size 432x288 with 1 Axes>"
      ]
     },
     "metadata": {
      "needs_background": "light"
     },
     "output_type": "display_data"
    }
   ],
   "source": [
    " \n",
    "        \n",
    "plt.figure()\n",
    "\n",
    "for i in range(len(Y)):\n",
    "    if Y[i] == 1:\n",
    "        plt.plot(x1[i], y1[i], \"r.\")\n",
    "    else:\n",
    "        plt.plot(x1[i], y1[i], \"b.\")\n",
    "        \n",
    "plt.show()"
   ]
  },
  {
   "cell_type": "code",
   "execution_count": null,
   "id": "0531faa3",
   "metadata": {},
   "outputs": [],
   "source": [
    "import numpy as np\n",
    "from numpy import pi\n",
    "import pandas as pd\n",
    "import matplotlib.pyplot as plt\n",
    "import random\n",
    "import math\n",
    "np.random.seed(0)\n",
    "\n",
    "N = 400\n",
    "theta = np.sqrt(np.random.rand(N))*2*pi\n",
    "\n",
    "r_a = 2*theta + pi\n",
    "data_a = np.array([np.cos(theta)*r_a, np.sin(theta)*r_a]).T\n",
    "x_a = data_a + np.random.randn(N,2)\n",
    "\n",
    "r_b = -2*theta - pi\n",
    "data_b = np.array([np.cos(theta)*r_b, np.sin(theta)*r_b]).T\n",
    "x_b = data_b + np.random.randn(N,2)\n",
    "\n",
    "res_a = np.append(x_a, np.zeros((N,1)), axis=1)\n",
    "res_b = np.append(x_b, np.ones((N,1)), axis=1)\n",
    "\n",
    "res = np.append(res_a, res_b, axis=0)\n",
    "np.random.shuffle(res)\n",
    "#np.savetxt(\"result.csv\", res, delimiter=\",\", header=\"x,y,label\", comments=\"\", fmt='%.5f')\n",
    "\n",
    "#data= pd.read_csv(\"result.csv\")\n",
    "\n",
    "#X1 = data.x.values.tolist()\n",
    "#X2 = data.y.values.tolist()\n",
    "#Y1 = data.label.values.tolist()\n",
    "X = []\n",
    "Y = []\n",
    "for i in range(len(X1)):\n",
    "    X.append([X1[i],X2[i]])\n",
    "    Y.append([Y1[i]])\n",
    "\n",
    "X = np.array(X)\n",
    "Y = np.array(Y)\n",
    "\n",
    "plt.figure()\n",
    "\n",
    "for i in range(len(Y)):\n",
    "    if Y1[i] == 0:\n",
    "        plt.plot(X1[i], X2[i], \"ro\")\n",
    "    else:\n",
    "        plt.plot(X1[i], X2[i], \"bo\")\n",
    "        \n",
    "plt.show()"
   ]
  },
  {
   "cell_type": "markdown",
   "id": "4047959f",
   "metadata": {},
   "source": [
    "# 2.Classification using neural network"
   ]
  },
  {
   "cell_type": "markdown",
   "id": "ec5a7349",
   "metadata": {},
   "source": [
    "i. Using Tanh activation function"
   ]
  },
  {
   "cell_type": "code",
   "execution_count": 46,
   "id": "168977c4",
   "metadata": {},
   "outputs": [],
   "source": [
    "import numpy as np\n",
    "import matplotlib.pyplot as plt\n",
    "\n",
    "np.random.seed(0)\n",
    "\n",
    "X = np.array([ [x1,y1] ])\n",
    "Y = np.array([ [Y] ])\n",
    " "
   ]
  },
  {
   "cell_type": "code",
   "execution_count": 50,
   "id": "a550cb7b",
   "metadata": {},
   "outputs": [],
   "source": [
    "class NeuralNetwork(object):\n",
    "    def __init__(self):\n",
    "        inputLayerNeurons = 2\n",
    "        hiddenLayerNeurons = 10\n",
    "        outLayerNeurons = 1\n",
    "        \n",
    "        self.learning_rate = 0.2\n",
    "        self.W_HI = np.random.randn(inputLayerNeurons, hiddenLayerNeurons)\n",
    "        self.W_OH = np.random.randn(hiddenLayerNeurons, outLayerNeurons)\n",
    "        \n",
    "    def Tanh(self, x, der=False):\n",
    "        if der == True:\n",
    "            return (4 *np.exp(2*x))/ (np.exp(2*x) + 1 )*2\n",
    "        \n",
    "        else:\n",
    "            return (np.exp(2*x) - 1) / (np.exp(2*x) + 1)\n",
    "        \n",
    "    def feedForward(self, X):\n",
    "        hidden_input = np.dot(X, self.W_HI)\n",
    "        self.hidden_output = self.Tanh(hidden_input)\n",
    "        \n",
    "        output_input = np.dot(self.hidden_output, self.W_OH)\n",
    "        pred = self.Tanh(output_input)\n",
    "        return pred\n",
    "        \n",
    "    def backPropagation(self, X, Y, pred):\n",
    "        output_error = Y - pred\n",
    "        output_delta = self.learning_rate * output_error * self.Tanh(pred, der=True)\n",
    "        \n",
    "        hidden_error = output_delta.dot(self.W_OH.T)\n",
    "        hidden_delta = self.learning_rate * hidden_error * self.Tanh(self.hidden_output, der=True)\n",
    "        \n",
    "        self.W_HI += X.T.dot(hidden_delta)\n",
    "        self.W_OH += self.hidden_output.T.dot(output_delta)\n",
    "        \n",
    "    def train(self, X, Y):\n",
    "        output = self.feedForward(X)\n",
    "        self.backPropagation(X,Y,output)"
   ]
  },
  {
   "cell_type": "code",
   "execution_count": null,
   "id": "83d31b9d",
   "metadata": {},
   "outputs": [],
   "source": [
    "NN = NeuralNetwork()\n",
    "\n",
    "err = []\n",
    "for i in range(10000):\n",
    "    NN.train(X,Y)\n",
    "    err.append(np.mean(np.square(Y - NN.feedForward(X))))\n",
    "\n",
    "plt.plot(err)"
   ]
  },
  {
   "cell_type": "markdown",
   "id": "2e8855c3",
   "metadata": {},
   "source": [
    "ii. Using ReLU activation function"
   ]
  },
  {
   "cell_type": "code",
   "execution_count": 51,
   "id": "03ad84a4",
   "metadata": {},
   "outputs": [],
   "source": [
    "class NeuralNetwork(object):\n",
    "    def __init__(self):\n",
    "        inputLayerNeurons = 2\n",
    "        hiddenLayerNeurons = 10\n",
    "        outLayerNeurons = 1\n",
    "        \n",
    "        self.learning_rate = 0.2\n",
    "        self.W_HI = np.random.randn(inputLayerNeurons, hiddenLayerNeurons)\n",
    "        self.W_OH = np.random.randn(hiddenLayerNeurons, outLayerNeurons)\n",
    "        \n",
    "    def ReLU(self, x, der=False):\n",
    "        if der == True:\n",
    "            return (4 *np.exp(2*x))/ (np.exp(2*x) + 1 )*2\n",
    "        \n",
    "        else:\n",
    "            return list(map(lambda a: a if a>=0 else 0, x))\n",
    "        \n",
    "    def feedForward(self, X):\n",
    "        hidden_input = np.dot(X, self.W_HI)\n",
    "        self.hidden_output = self.ReLU(hidden_input)\n",
    "        \n",
    "        output_input = np.dot(self.hidden_output, self.W_OH)\n",
    "        pred = self.ReLU(output_input)\n",
    "        return pred\n",
    "        \n",
    "    def backPropagation(self, X, Y, pred):\n",
    "        output_error = Y - pred\n",
    "        output_delta = self.learning_rate * output_error * self.ReLU(pred, der=True)\n",
    "        \n",
    "        hidden_error = output_delta.dot(self.W_OH.T)\n",
    "        hidden_delta = self.learning_rate * hidden_error * self.ReLU(self.hidden_output, der=True)\n",
    "        \n",
    "        self.W_HI += X.T.dot(hidden_delta)\n",
    "        self.W_OH += self.hidden_output.T.dot(output_delta)\n",
    "        \n",
    "    def train(self, X, Y):\n",
    "        output = self.feedForward(X)\n",
    "        self.backPropagation(X,Y,output)"
   ]
  },
  {
   "cell_type": "code",
   "execution_count": null,
   "id": "8d782c86",
   "metadata": {},
   "outputs": [],
   "source": [
    "NN = NeuralNetwork()\n",
    "\n",
    "err = []\n",
    "for i in range(10000):\n",
    "    NN.train(X,Y)\n",
    "    err.append(np.mean(np.square(Y - NN.feedForward(X))))\n",
    "\n",
    "plt.plot(err)"
   ]
  }
 ],
 "metadata": {
  "kernelspec": {
   "display_name": "Python 3",
   "language": "python",
   "name": "python3"
  },
  "language_info": {
   "codemirror_mode": {
    "name": "ipython",
    "version": 3
   },
   "file_extension": ".py",
   "mimetype": "text/x-python",
   "name": "python",
   "nbconvert_exporter": "python",
   "pygments_lexer": "ipython3",
   "version": "3.8.8"
  }
 },
 "nbformat": 4,
 "nbformat_minor": 5
}
